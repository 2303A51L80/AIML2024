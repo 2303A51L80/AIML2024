{
  "nbformat": 4,
  "nbformat_minor": 0,
  "metadata": {
    "colab": {
      "provenance": []
    },
    "kernelspec": {
      "name": "python3",
      "display_name": "Python 3"
    },
    "language_info": {
      "name": "python"
    }
  },
  "cells": [
    {
      "cell_type": "markdown",
      "source": [
        "Question 1:\n",
        "https://www.kaggle.com/datasets/iabhishekofficial/mobile-price-classification?select=train.csv\n",
        "From the above data:\n",
        "a) Read the data with pandas and find features and target variables\n"
      ],
      "metadata": {
        "id": "k7lrEOyaDBwo"
      }
    },
    {
      "cell_type": "code",
      "source": [
        "import pandas as pd\n",
        "\n",
        "# Read the data\n",
        "data = pd.read_csv(\"train.csv\")\n",
        "\n",
        "# Display the first few rows of the dataset\n",
        "print(data.head())\n",
        "\n",
        "# Identify features and target variable\n",
        "features = data.drop(columns=['price_range'])\n",
        "target = data['price_range']\n"
      ],
      "metadata": {
        "id": "cI0StZknDHUH"
      },
      "execution_count": null,
      "outputs": []
    },
    {
      "cell_type": "markdown",
      "source": [
        "b) Normalize the data with min-max scaling\n"
      ],
      "metadata": {
        "id": "_f02jNnlDezD"
      }
    },
    {
      "cell_type": "code",
      "source": [
        "from sklearn.preprocessing import MinMaxScaler\n",
        "\n",
        "# Initialize MinMaxScaler\n",
        "scaler = MinMaxScaler()\n",
        "\n",
        "# Normalize the features\n",
        "normalized_features = scaler.fit_transform(features)\n",
        "\n",
        "# Convert back to DataFrame\n",
        "normalized_features_df = pd.DataFrame(normalized_features, columns=features.columns)\n",
        "\n",
        "# Display the normalized features\n",
        "print(normalized_features_df.head())\n"
      ],
      "metadata": {
        "id": "OC_eD0VVDMPd"
      },
      "execution_count": null,
      "outputs": []
    },
    {
      "cell_type": "markdown",
      "source": [
        "c) Split the data into train and test."
      ],
      "metadata": {
        "id": "bmsqjlOBDi4J"
      }
    },
    {
      "cell_type": "code",
      "source": [
        "from sklearn.model_selection import train_test_split\n",
        "\n",
        "# Split the data into train and test sets\n",
        "X_train, X_test, y_train, y_test = train_test_split(normalized_features_df, target, test_size=0.2, random_state=42)\n",
        "\n",
        "# Display the shapes of train and test sets\n",
        "print(\"Train set shape:\", X_train.shape, y_train.shape)\n",
        "print(\"Test set shape:\", X_test.shape, y_test.shape)\n"
      ],
      "metadata": {
        "id": "9z7Sl14bDRnD"
      },
      "execution_count": null,
      "outputs": []
    },
    {
      "cell_type": "markdown",
      "source": [
        "\n",
        "Question 2:\n",
        "Bob has started his own mobile company. He wants to give tough fight to big companies like\n",
        "Apple,Samsung etc.\n",
        "He does not know how to estimate price of mobiles his company creates. In this competitive\n",
        "mobile phone market you cannot simply assume things. To solve this problem he collects sales\n",
        "data of mobile phones of various companies.\n",
        "Bob wants to find out some relation between features of a mobile phone (eg:- RAM,Internal\n",
        "Memory etc) and its selling price. But he is not so good at Machine Learning. So he needs your\n",
        "help to solve this problem. And provide the results like accuracy, precision recall and confusion\n",
        "matrix.\n",
        "https://www.kaggle.com/datasets/iabhishekofficial/mobile-price-classification?select=train.csv\n",
        "Hint: apply logistic regression\n"
      ],
      "metadata": {
        "id": "pB0I3ReEDoTa"
      }
    },
    {
      "cell_type": "code",
      "source": [
        "from sklearn.linear_model import LogisticRegression\n",
        "from sklearn.metrics import accuracy_score, precision_score, recall_score, confusion_matrix\n",
        "\n",
        "# Initialize Logistic Regression model\n",
        "model = LogisticRegression()\n",
        "\n",
        "# Train the model\n",
        "model.fit(X_train, y_train)\n",
        "\n",
        "# Predict on the test set\n",
        "y_pred = model.predict(X_test)\n",
        "\n",
        "# Calculate accuracy\n",
        "accuracy = accuracy_score(y_test, y_pred)\n",
        "print(\"Accuracy:\", accuracy)\n",
        "\n",
        "# Calculate precision\n",
        "precision = precision_score(y_test, y_pred, average='weighted')\n",
        "print(\"Precision:\", precision)\n",
        "\n",
        "# Calculate recall\n",
        "recall = recall_score(y_test, y_pred, average='weighted')\n",
        "print(\"Recall:\", recall)\n",
        "\n",
        "# Calculate confusion matrix\n",
        "conf_matrix = confusion_matrix(y_test, y_pred)\n",
        "print(\"Confusion Matrix:\")\n",
        "print(conf_matrix)\n"
      ],
      "metadata": {
        "id": "WrauHhoZD1RR"
      },
      "execution_count": null,
      "outputs": []
    },
    {
      "cell_type": "markdown",
      "source": [
        "This should give you the accuracy, precision, recall, and confusion matrix for the logistic regression model applied to the mobile price classification problem.\n",
        "\n",
        "\n",
        "\n",
        "\n",
        "\n"
      ],
      "metadata": {
        "id": "27oz_OigD6DI"
      }
    },
    {
      "cell_type": "code",
      "execution_count": null,
      "metadata": {
        "id": "duRQQ95nC98P"
      },
      "outputs": [],
      "source": []
    }
  ]
}